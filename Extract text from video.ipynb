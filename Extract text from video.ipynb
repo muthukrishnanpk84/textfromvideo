{
 "cells": [
  {
   "cell_type": "markdown",
   "metadata": {},
   "source": [
    "# Reference\n",
    "https://medium.com/@akash555bhiwgade/how-to-generate-text-from-a-video-file-using-python-261f59e95b5f"
   ]
  },
  {
   "cell_type": "code",
   "execution_count": 48,
   "metadata": {},
   "outputs": [],
   "source": [
    "import os\n",
    "import speech_recognition as sr"
   ]
  },
  {
   "cell_type": "code",
   "execution_count": 49,
   "metadata": {},
   "outputs": [],
   "source": [
    "indiawav='E:\\Data science Projects\\OCR Video to Text\\india.wav'\n",
    "indiawav=os.system(indiawav)"
   ]
  },
  {
   "cell_type": "code",
   "execution_count": 50,
   "metadata": {},
   "outputs": [],
   "source": [
    "r = sr.Recognizer()\n",
    "audio = sr.AudioFile('E:\\Data science Projects\\OCR Video to Text\\india.wav')"
   ]
  },
  {
   "cell_type": "code",
   "execution_count": 51,
   "metadata": {},
   "outputs": [
    {
     "name": "stdout",
     "output_type": "stream",
     "text": [
      "Thodi wallpapers about India sure to amaze you 10 in the number system in the operation of those Defined by Indian mathematician brahmagupta in 628 he developed the symbol for zero had and unique numbers to India is the only country confirmed to have both wild lions and tigers specifically Asiatic lions in Bengal tigers treat the beginning of yoga with the developed by the Indus Valley Civilization in Northern India over 5,000 years ago the work was first mentioned in the oldest sacred-texts the ringleader Indian housewives old 11% of world NGO that is more than the gold reserves in United States I am your money and China put together V from ancient times in the with the source nearly all the world's known diamonds and until the discovery of Diamonds in Brazilian 1726 India was the only place where Diamond remind sex Taxila the world's first university was located in ancient India was established in 700 BCA taxi alert axillary taxshila which is now in Pakistan 7 became the chest was originated in India where it was call Chachu anchor which appears to have been invented in the 2nd century 88 India is the only can\n"
     ]
    }
   ],
   "source": [
    "with audio as source:\n",
    " audio = r.record(source, duration=100)\n",
    " print(r.recognize_google(audio))"
   ]
  },
  {
   "cell_type": "code",
   "execution_count": null,
   "metadata": {},
   "outputs": [],
   "source": []
  }
 ],
 "metadata": {
  "kernelspec": {
   "display_name": "Python 3",
   "language": "python",
   "name": "python3"
  },
  "language_info": {
   "codemirror_mode": {
    "name": "ipython",
    "version": 3
   },
   "file_extension": ".py",
   "mimetype": "text/x-python",
   "name": "python",
   "nbconvert_exporter": "python",
   "pygments_lexer": "ipython3",
   "version": "3.8.5"
  }
 },
 "nbformat": 4,
 "nbformat_minor": 4
}
